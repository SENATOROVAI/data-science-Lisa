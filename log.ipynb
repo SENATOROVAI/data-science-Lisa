{
 "cells": [
  {
   "cell_type": "code",
   "execution_count": null,
   "metadata": {},
   "outputs": [],
   "source": [
    "#26 JAN\n",
    "# 1) pep8 - стандарт форматирования кода Python\n",
    "# 2) black - инструмент автоформатирования кода согласно pep8\n",
    "# 3) pip - инструмент для установки и управления пакетами в Python\n",
    "\n",
    "!pip install package_name\n",
    "#установка пакета\n",
    "\n",
    "!pip install --upgrame package_name\n",
    "#обновление пакета\n",
    "\n",
    "!pip uninstall package_name\n",
    "#удаление пакета\n",
    "\n",
    "!pip freeze \n",
    "#список установленных пакетов с версиями \n",
    "\n",
    "!pip install -r requirements.txt\n",
    "#установка всех пакетов из requirements.txt\n",
    "\n",
    "#fork в гите - создание копии репозиория другого пользователя \n",
    "#при создании форка мы создаем собственную версию репозитория\n",
    "#мои изменения в форке не влияют на оригинальную версию\n",
    "#после внесения изменений в форк мы делаем пул реквест (в основной репозиторий) \n"
   ]
  }
 ],
 "metadata": {
  "language_info": {
   "name": "python"
  }
 },
 "nbformat": 4,
 "nbformat_minor": 2
}
